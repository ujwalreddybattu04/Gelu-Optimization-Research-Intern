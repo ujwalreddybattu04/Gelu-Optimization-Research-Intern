{
 "cells": [
  {
   "cell_type": "code",
   "execution_count": null,
   "id": "0937c682",
   "metadata": {
    "vscode": {
     "languageId": "plaintext"
    }
   },
   "outputs": [],
   "source": [
    "import numpy as np\n",
    "from scipy.special import erf\n",
    "from scipy.stats import ttest_rel\n",
    "import time\n",
    "\n",
    "# ───────────────────────────────────\n",
    "# Standard GELU function\n",
    "# ───────────────────────────────────\n",
    "def gelu_np(x: np.ndarray) -> np.ndarray:\n",
    "    return 0.5 * x * (1.0 + erf(x / np.sqrt(2.0)))\n",
    "\n",
    "# ───────────────────────────────────\n",
    "# Cached GELU with precomputed table\n",
    "# ───────────────────────────────────\n",
    "class CachedGELU:\n",
    "    def __init__(self, x_min=-100.0, x_max=100.0, N=20000):\n",
    "        self.x_min = float(x_min)\n",
    "        self.x_max = float(x_max)\n",
    "        self.N = int(N)\n",
    "        self.step = (self.x_max - self.x_min) / (self.N - 1)\n",
    "        self.inv_step = 1.0 / self.step\n",
    "        x_table = np.linspace(self.x_min, self.x_max, self.N, dtype=np.float32)\n",
    "        self.y_table = 0.5 * x_table * (1.0 + erf(x_table / np.sqrt(2.0))).astype(np.float32)\n",
    "        self.slope = np.empty_like(self.y_table)\n",
    "        self.slope[:-1] = np.diff(self.y_table)\n",
    "        self.slope[-1] = self.slope[-2]\n",
    "\n",
    "    def apply(self, X: np.ndarray) -> np.ndarray:\n",
    "        Xf = np.ascontiguousarray(X, dtype=np.float32)\n",
    "        idx_f = (Xf - self.x_min) * self.inv_step\n",
    "        idx = idx_f.astype(np.int32)\n",
    "        np.clip(idx, 0, self.N - 1, out=idx)\n",
    "        idx_f -= idx\n",
    "        out = self.y_table[idx] + self.slope[idx] * idx_f\n",
    "        mask_outside = (Xf < self.x_min) | (Xf > self.x_max)\n",
    "        if np.any(mask_outside):\n",
    "            X_out = Xf[mask_outside]\n",
    "            out[mask_outside] = 0.5 * X_out * (1.0 + erf(X_out / np.sqrt(2.0)))\n",
    "        return out\n",
    "\n",
    "# ───────────────────────────────────\n",
    "# Benchmark utility (returns full timing list)\n",
    "# ───────────────────────────────────\n",
    "def benchmark_times(fn, data, runs=50):\n",
    "    fn(data)  # warm-up\n",
    "    times = []\n",
    "    for _ in range(runs):\n",
    "        t0 = time.time()\n",
    "        fn(data)\n",
    "        times.append((time.time() - t0) * 1e3)  # milliseconds\n",
    "    return np.array(times)\n",
    "\n",
    "# ───────────────────────────────────\n",
    "# Main script\n",
    "# ───────────────────────────────────\n",
    "if __name__ == \"__main__\":\n",
    "    np.random.seed(42)\n",
    "    size = 100_000_000\n",
    "    X = np.random.uniform(-100, 100, size).astype(np.float32)\n",
    "\n",
    "    # Create GELU and CachedGELU functions\n",
    "    fast = CachedGELU()\n",
    "\n",
    "    # Benchmark both (50 runs)\n",
    "    ref_times = benchmark_times(gelu_np, X)\n",
    "    fast_times = benchmark_times(fast.apply, X)\n",
    "\n",
    "    ref_mean, ref_std = np.mean(ref_times), np.std(ref_times)\n",
    "    fast_mean, fast_std = np.mean(fast_times), np.std(fast_times)\n",
    "\n",
    "    # Compute reference output ONCE for accuracy check\n",
    "    ref_output = gelu_np(X)\n",
    "    cached_output = fast.apply(X)\n",
    "\n",
    "    # Error analysis\n",
    "    max_err = np.max(np.abs(ref_output - cached_output))\n",
    "    mean_err = np.mean(np.abs(ref_output - cached_output))\n",
    "\n",
    "    # Paired t-test for p-value\n",
    "    t_stat, p_value = ttest_rel(ref_times, fast_times)\n",
    "\n",
    "    # Print results\n",
    "    print(\"\\n--- GELU Timing Results (100M values, 50 runs) ---\")\n",
    "    print(f\"Standard GELU (erf):  {ref_mean:8.2f} ms ± {ref_std:6.2f}\")\n",
    "    print(f\"CachedGELU         :  {fast_mean:8.2f} ms ± {fast_std:6.2f}\")\n",
    "    print(f\"Speed-up factor    :  {ref_mean / fast_mean:8.2f} ×\")\n",
    "    print(f\"Max abs error      :  {max_err:.6e}\")\n",
    "    print(f\"Mean abs error     :  {mean_err:.6e}\")\n",
    "    print(f\"p-value (paired t-test): {p_value:.4e}\")\n"
   ]
  },
  {
   "cell_type": "code",
   "execution_count": null,
   "id": "0e9faa1b",
   "metadata": {
    "vscode": {
     "languageId": "plaintext"
    }
   },
   "outputs": [],
   "source": []
  },
  {
   "cell_type": "code",
   "execution_count": null,
   "id": "872e9733",
   "metadata": {
    "vscode": {
     "languageId": "plaintext"
    }
   },
   "outputs": [],
   "source": []
  }
 ],
 "metadata": {
  "language_info": {
   "name": "python"
  }
 },
 "nbformat": 4,
 "nbformat_minor": 5
}
